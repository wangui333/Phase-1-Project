#  Phase 1 Project: Aviation Accident Data Analysis
This notebook explores aviation accidents using the `AviationData.csv` dataset from the NTSB to evaluate trends and suggest improvements in aviation safety.

## Import libraries
import pandas as pd
import numpy as np
import matplotlib.pyplot as plt


##Load the data
df = pd.read_csv('AviationData.csv', encoding='latin1')

## Data Cleaning & Preparation

df['Event.Date'] = pd.to_datetime(df['Event.Date'], errors='coerce')
df['Year'] = df['Event.Date'].dt.year
df['Total.Fatal.Injuries'] = pd.to_numeric(df['Total.Fatal.Injuries'], errors='coerce').fillna(0)
df['Total.Serious.Injuries'] = pd.to_numeric(df['Total.Serious.Injuries'], errors='coerce').fillna(0)

## Evaluation Analysis

## Yearly Fatal Injuries
fatal_by_year = df.groupby('Year')['Total.Fatal.Injuries'].sum()
fatal_by_year.plot(kind='line', figsize=(10,5), title='Yearly Fatal Injuries')
plt.xlabel('Year')
plt.ylabel('Fatal Injuries')
plt.grid(True)
plt.tight_layout()
plt.show()

## Aircraft Damage Types
damage_counts = df['Aircraft.Damage'].value_counts()
damage_counts.plot(kind='pie', autopct='%1.1f%%', title='Aircraft Damage Distribution')
plt.ylabel('')
plt.tight_layout()
plt.show()

## Top Locations with Most Incidents
top_locations = df['Location'].value_counts().head(10)
sns.barplot(y=top_locations.index, x=top_locations.values)
plt.title('Top 10 Locations with Most Incidents')
plt.xlabel('Number of Incidents')
plt.ylabel('Location')
plt.tight_layout()
plt.show()


##  Suggested Improvements
- Improved weather condition training for pilots
- Better reporting standardization
- Use of AI to detect anomalies in flight paths


## Conclusion
This analysis shows patterns in aviation accidents that can be used to prevent future events. With better data and technology, aviation safety can continue to improve.
